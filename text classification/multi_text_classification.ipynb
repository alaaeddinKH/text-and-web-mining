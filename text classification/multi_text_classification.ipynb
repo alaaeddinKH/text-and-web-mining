{
 "cells": [
  {
   "attachments": {},
   "cell_type": "markdown",
   "id": "715d7b06",
   "metadata": {},
   "source": [
    "# text classification"
   ]
  },
  {
   "attachments": {},
   "cell_type": "markdown",
   "id": "e9911eaf",
   "metadata": {},
   "source": [
    "## gerekli kütüphaneleri çağırma işlemi"
   ]
  },
  {
   "cell_type": "code",
   "execution_count": 1,
   "id": "69163aac",
   "metadata": {},
   "outputs": [
    {
     "name": "stderr",
     "output_type": "stream",
     "text": [
      "[nltk_data] Downloading package punkt to\n",
      "[nltk_data]     C:\\Users\\ALAAEDDIN\\AppData\\Roaming\\nltk_data...\n",
      "[nltk_data]   Package punkt is already up-to-date!\n"
     ]
    }
   ],
   "source": [
    "import os\n",
    "import pandas as pd\n",
    "import nltk\n",
    "nltk.download('punkt')\n",
    "from nltk.tokenize import word_tokenize\n",
    "import re\n",
    "import string\n",
    "from sklearn.model_selection import train_test_split\n",
    "from sklearn.feature_extraction.text import TfidfVectorizer\n",
    "from sklearn.feature_selection import SelectPercentile\n",
    "from sklearn.feature_selection import chi2 , f_classif \n",
    "from sklearn.preprocessing import LabelEncoder\n",
    "from sklearn.model_selection import cross_validate\n",
    "from sklearn.neighbors import KNeighborsClassifier\n",
    "from sklearn.metrics import classification_report \n"
   ]
  },
  {
   "attachments": {},
   "cell_type": "markdown",
   "id": "0d963e3f",
   "metadata": {},
   "source": [
    "## veri okuma ve bir sınıfa atma işlemleri"
   ]
  },
  {
   "cell_type": "code",
   "execution_count": 2,
   "id": "dbc3a5ad",
   "metadata": {},
   "outputs": [],
   "source": [
    "path_1 = \"C:/Users/ALAAEDDIN/PycharmProjects/pythonProject2/raw_texts/1\"\n",
    "path_2 = \"C:/Users/ALAAEDDIN/PycharmProjects/pythonProject2/raw_texts/2\"\n",
    "path_3 = \"C:/Users/ALAAEDDIN/PycharmProjects/pythonProject2/raw_texts/3\"\n",
    "\n",
    "def read_txt_files(path, class_name):\n",
    "    tweets_list = []\n",
    "    for f_name in os.listdir(path):\n",
    "        if f_name.endswith(\".txt\"):\n",
    "            with open(os.path.join(path, f_name), \"r\", encoding=\"ISO-8859-9\") as f:\n",
    "                tweet = f.read()\n",
    "                tweets_list.append([tweet, class_name])\n",
    "                tweets_df = pd.DataFrame(tweets_list, columns=[\"Tweet\", \"Class\"])\n",
    "    return tweets_df\n",
    "\n",
    "df_class1 = read_txt_files(path_1, \"positive\")\n",
    "df_class2 = read_txt_files(path_2, \"negative\")\n",
    "df_class3 = read_txt_files(path_3, \"neutral\")\n",
    "df = pd.concat([df_class1, df_class2, df_class3])"
   ]
  },
  {
   "cell_type": "code",
   "execution_count": 3,
   "id": "803b4a9b",
   "metadata": {},
   "outputs": [
    {
     "data": {
      "text/html": [
       "<div>\n",
       "<style scoped>\n",
       "    .dataframe tbody tr th:only-of-type {\n",
       "        vertical-align: middle;\n",
       "    }\n",
       "\n",
       "    .dataframe tbody tr th {\n",
       "        vertical-align: top;\n",
       "    }\n",
       "\n",
       "    .dataframe thead th {\n",
       "        text-align: right;\n",
       "    }\n",
       "</style>\n",
       "<table border=\"1\" class=\"dataframe\">\n",
       "  <thead>\n",
       "    <tr style=\"text-align: right;\">\n",
       "      <th></th>\n",
       "      <th>Tweet</th>\n",
       "      <th>Class</th>\n",
       "    </tr>\n",
       "  </thead>\n",
       "  <tbody>\n",
       "    <tr>\n",
       "      <th>0</th>\n",
       "      <td>dun Turkcelle tepkilerimizden sonra bugün Turk...</td>\n",
       "      <td>positive</td>\n",
       "    </tr>\n",
       "    <tr>\n",
       "      <th>1</th>\n",
       "      <td>girmezmiyim.. Turkcell kartim bile var.. Yarin...</td>\n",
       "      <td>positive</td>\n",
       "    </tr>\n",
       "    <tr>\n",
       "      <th>2</th>\n",
       "      <td>tam tünelden gecerken 3g cekiyordu:D türkcell'...</td>\n",
       "      <td>positive</td>\n",
       "    </tr>\n",
       "    <tr>\n",
       "      <th>3</th>\n",
       "      <td>turkcell superonline fiber internet veya ADSL ...</td>\n",
       "      <td>positive</td>\n",
       "    </tr>\n",
       "    <tr>\n",
       "      <th>4</th>\n",
       "      <td>bence Gnçtrkcll Ark Winterfest 2012'de 1.olur ...</td>\n",
       "      <td>positive</td>\n",
       "    </tr>\n",
       "  </tbody>\n",
       "</table>\n",
       "</div>"
      ],
      "text/plain": [
       "                                               Tweet     Class\n",
       "0  dun Turkcelle tepkilerimizden sonra bugün Turk...  positive\n",
       "1  girmezmiyim.. Turkcell kartim bile var.. Yarin...  positive\n",
       "2  tam tünelden gecerken 3g cekiyordu:D türkcell'...  positive\n",
       "3  turkcell superonline fiber internet veya ADSL ...  positive\n",
       "4  bence Gnçtrkcll Ark Winterfest 2012'de 1.olur ...  positive"
      ]
     },
     "execution_count": 3,
     "metadata": {},
     "output_type": "execute_result"
    }
   ],
   "source": [
    "df.head()"
   ]
  },
  {
   "cell_type": "code",
   "execution_count": 4,
   "id": "71fc8e05",
   "metadata": {},
   "outputs": [
    {
     "data": {
      "text/html": [
       "<div>\n",
       "<style scoped>\n",
       "    .dataframe tbody tr th:only-of-type {\n",
       "        vertical-align: middle;\n",
       "    }\n",
       "\n",
       "    .dataframe tbody tr th {\n",
       "        vertical-align: top;\n",
       "    }\n",
       "\n",
       "    .dataframe thead th {\n",
       "        text-align: right;\n",
       "    }\n",
       "</style>\n",
       "<table border=\"1\" class=\"dataframe\">\n",
       "  <thead>\n",
       "    <tr style=\"text-align: right;\">\n",
       "      <th></th>\n",
       "      <th>Tweet</th>\n",
       "      <th>Class</th>\n",
       "    </tr>\n",
       "  </thead>\n",
       "  <tbody>\n",
       "    <tr>\n",
       "      <th>952</th>\n",
       "      <td>Evet kesinlikle çok az.. Turkcell bu konuda şu...</td>\n",
       "      <td>neutral</td>\n",
       "    </tr>\n",
       "    <tr>\n",
       "      <th>953</th>\n",
       "      <td>selocan nedir abicim ya ?</td>\n",
       "      <td>neutral</td>\n",
       "    </tr>\n",
       "    <tr>\n",
       "      <th>954</th>\n",
       "      <td>özturkcell e dönücz diye korkuyorum ama çanakk...</td>\n",
       "      <td>neutral</td>\n",
       "    </tr>\n",
       "    <tr>\n",
       "      <th>955</th>\n",
       "      <td>turkcell se 532 yi ara puk kodunu ogrenme menu...</td>\n",
       "      <td>neutral</td>\n",
       "    </tr>\n",
       "    <tr>\n",
       "      <th>956</th>\n",
       "      <td>CHIP Galaxy Y ve Chat Türkiye'de!: Samsung'un ...</td>\n",
       "      <td>neutral</td>\n",
       "    </tr>\n",
       "  </tbody>\n",
       "</table>\n",
       "</div>"
      ],
      "text/plain": [
       "                                                 Tweet    Class\n",
       "952  Evet kesinlikle çok az.. Turkcell bu konuda şu...  neutral\n",
       "953                          selocan nedir abicim ya ?  neutral\n",
       "954  özturkcell e dönücz diye korkuyorum ama çanakk...  neutral\n",
       "955  turkcell se 532 yi ara puk kodunu ogrenme menu...  neutral\n",
       "956  CHIP Galaxy Y ve Chat Türkiye'de!: Samsung'un ...  neutral"
      ]
     },
     "execution_count": 4,
     "metadata": {},
     "output_type": "execute_result"
    }
   ],
   "source": [
    "df.tail()"
   ]
  },
  {
   "cell_type": "code",
   "execution_count": 5,
   "id": "e7bbca01",
   "metadata": {},
   "outputs": [],
   "source": [
    "df = df.reset_index(drop = True)"
   ]
  },
  {
   "cell_type": "code",
   "execution_count": 6,
   "id": "f97ded09",
   "metadata": {},
   "outputs": [
    {
     "data": {
      "text/html": [
       "<div>\n",
       "<style scoped>\n",
       "    .dataframe tbody tr th:only-of-type {\n",
       "        vertical-align: middle;\n",
       "    }\n",
       "\n",
       "    .dataframe tbody tr th {\n",
       "        vertical-align: top;\n",
       "    }\n",
       "\n",
       "    .dataframe thead th {\n",
       "        text-align: right;\n",
       "    }\n",
       "</style>\n",
       "<table border=\"1\" class=\"dataframe\">\n",
       "  <thead>\n",
       "    <tr style=\"text-align: right;\">\n",
       "      <th></th>\n",
       "      <th>Tweet</th>\n",
       "      <th>Class</th>\n",
       "    </tr>\n",
       "  </thead>\n",
       "  <tbody>\n",
       "    <tr>\n",
       "      <th>2995</th>\n",
       "      <td>Evet kesinlikle çok az.. Turkcell bu konuda şu...</td>\n",
       "      <td>neutral</td>\n",
       "    </tr>\n",
       "    <tr>\n",
       "      <th>2996</th>\n",
       "      <td>selocan nedir abicim ya ?</td>\n",
       "      <td>neutral</td>\n",
       "    </tr>\n",
       "    <tr>\n",
       "      <th>2997</th>\n",
       "      <td>özturkcell e dönücz diye korkuyorum ama çanakk...</td>\n",
       "      <td>neutral</td>\n",
       "    </tr>\n",
       "    <tr>\n",
       "      <th>2998</th>\n",
       "      <td>turkcell se 532 yi ara puk kodunu ogrenme menu...</td>\n",
       "      <td>neutral</td>\n",
       "    </tr>\n",
       "    <tr>\n",
       "      <th>2999</th>\n",
       "      <td>CHIP Galaxy Y ve Chat Türkiye'de!: Samsung'un ...</td>\n",
       "      <td>neutral</td>\n",
       "    </tr>\n",
       "  </tbody>\n",
       "</table>\n",
       "</div>"
      ],
      "text/plain": [
       "                                                  Tweet    Class\n",
       "2995  Evet kesinlikle çok az.. Turkcell bu konuda şu...  neutral\n",
       "2996                          selocan nedir abicim ya ?  neutral\n",
       "2997  özturkcell e dönücz diye korkuyorum ama çanakk...  neutral\n",
       "2998  turkcell se 532 yi ara puk kodunu ogrenme menu...  neutral\n",
       "2999  CHIP Galaxy Y ve Chat Türkiye'de!: Samsung'un ...  neutral"
      ]
     },
     "execution_count": 6,
     "metadata": {},
     "output_type": "execute_result"
    }
   ],
   "source": [
    "df.tail()"
   ]
  },
  {
   "cell_type": "code",
   "execution_count": 7,
   "id": "96067861",
   "metadata": {},
   "outputs": [
    {
     "data": {
      "text/plain": [
       "(3000, 2)"
      ]
     },
     "execution_count": 7,
     "metadata": {},
     "output_type": "execute_result"
    }
   ],
   "source": [
    "df.shape"
   ]
  },
  {
   "cell_type": "code",
   "execution_count": 8,
   "id": "3d9f424b",
   "metadata": {},
   "outputs": [
    {
     "data": {
      "text/plain": [
       "negative    1287\n",
       "neutral      957\n",
       "positive     756\n",
       "Name: Class, dtype: int64"
      ]
     },
     "execution_count": 8,
     "metadata": {},
     "output_type": "execute_result"
    }
   ],
   "source": [
    "df[\"Class\"].value_counts()"
   ]
  },
  {
   "attachments": {},
   "cell_type": "markdown",
   "id": "67f830b9",
   "metadata": {},
   "source": [
    "## verileri temizleme işlemi"
   ]
  },
  {
   "attachments": {},
   "cell_type": "markdown",
   "id": "3fce638c",
   "metadata": {},
   "source": [
    "büyük harften küçüğe çevirmek"
   ]
  },
  {
   "cell_type": "code",
   "execution_count": 9,
   "id": "c7bff8eb",
   "metadata": {},
   "outputs": [
    {
     "data": {
      "text/html": [
       "<div>\n",
       "<style scoped>\n",
       "    .dataframe tbody tr th:only-of-type {\n",
       "        vertical-align: middle;\n",
       "    }\n",
       "\n",
       "    .dataframe tbody tr th {\n",
       "        vertical-align: top;\n",
       "    }\n",
       "\n",
       "    .dataframe thead th {\n",
       "        text-align: right;\n",
       "    }\n",
       "</style>\n",
       "<table border=\"1\" class=\"dataframe\">\n",
       "  <thead>\n",
       "    <tr style=\"text-align: right;\">\n",
       "      <th></th>\n",
       "      <th>Tweet</th>\n",
       "      <th>Class</th>\n",
       "      <th>result</th>\n",
       "    </tr>\n",
       "  </thead>\n",
       "  <tbody>\n",
       "    <tr>\n",
       "      <th>0</th>\n",
       "      <td>dun Turkcelle tepkilerimizden sonra bugün Turk...</td>\n",
       "      <td>positive</td>\n",
       "      <td>dun turkcelle tepkilerimizden sonra bugün turk...</td>\n",
       "    </tr>\n",
       "    <tr>\n",
       "      <th>1</th>\n",
       "      <td>girmezmiyim.. Turkcell kartim bile var.. Yarin...</td>\n",
       "      <td>positive</td>\n",
       "      <td>girmezmiyim.. turkcell kartim bile var.. yarin...</td>\n",
       "    </tr>\n",
       "    <tr>\n",
       "      <th>2</th>\n",
       "      <td>tam tünelden gecerken 3g cekiyordu:D türkcell'...</td>\n",
       "      <td>positive</td>\n",
       "      <td>tam tünelden gecerken 3g cekiyordu:d türkcell'...</td>\n",
       "    </tr>\n",
       "    <tr>\n",
       "      <th>3</th>\n",
       "      <td>turkcell superonline fiber internet veya ADSL ...</td>\n",
       "      <td>positive</td>\n",
       "      <td>turkcell superonline fiber internet veya adsl ...</td>\n",
       "    </tr>\n",
       "    <tr>\n",
       "      <th>4</th>\n",
       "      <td>bence Gnçtrkcll Ark Winterfest 2012'de 1.olur ...</td>\n",
       "      <td>positive</td>\n",
       "      <td>bence gnçtrkcll ark winterfest 2012'de 1.olur ...</td>\n",
       "    </tr>\n",
       "    <tr>\n",
       "      <th>...</th>\n",
       "      <td>...</td>\n",
       "      <td>...</td>\n",
       "      <td>...</td>\n",
       "    </tr>\n",
       "    <tr>\n",
       "      <th>2995</th>\n",
       "      <td>Evet kesinlikle çok az.. Turkcell bu konuda şu...</td>\n",
       "      <td>neutral</td>\n",
       "      <td>evet kesinlikle çok az.. turkcell bu konuda şu...</td>\n",
       "    </tr>\n",
       "    <tr>\n",
       "      <th>2996</th>\n",
       "      <td>selocan nedir abicim ya ?</td>\n",
       "      <td>neutral</td>\n",
       "      <td>selocan nedir abicim ya ?</td>\n",
       "    </tr>\n",
       "    <tr>\n",
       "      <th>2997</th>\n",
       "      <td>özturkcell e dönücz diye korkuyorum ama çanakk...</td>\n",
       "      <td>neutral</td>\n",
       "      <td>özturkcell e dönücz diye korkuyorum ama çanakk...</td>\n",
       "    </tr>\n",
       "    <tr>\n",
       "      <th>2998</th>\n",
       "      <td>turkcell se 532 yi ara puk kodunu ogrenme menu...</td>\n",
       "      <td>neutral</td>\n",
       "      <td>turkcell se 532 yi ara puk kodunu ogrenme menu...</td>\n",
       "    </tr>\n",
       "    <tr>\n",
       "      <th>2999</th>\n",
       "      <td>CHIP Galaxy Y ve Chat Türkiye'de!: Samsung'un ...</td>\n",
       "      <td>neutral</td>\n",
       "      <td>chip galaxy y ve chat türkiye'de!: samsung'un ...</td>\n",
       "    </tr>\n",
       "  </tbody>\n",
       "</table>\n",
       "<p>3000 rows × 3 columns</p>\n",
       "</div>"
      ],
      "text/plain": [
       "                                                  Tweet     Class  \\\n",
       "0     dun Turkcelle tepkilerimizden sonra bugün Turk...  positive   \n",
       "1     girmezmiyim.. Turkcell kartim bile var.. Yarin...  positive   \n",
       "2     tam tünelden gecerken 3g cekiyordu:D türkcell'...  positive   \n",
       "3     turkcell superonline fiber internet veya ADSL ...  positive   \n",
       "4     bence Gnçtrkcll Ark Winterfest 2012'de 1.olur ...  positive   \n",
       "...                                                 ...       ...   \n",
       "2995  Evet kesinlikle çok az.. Turkcell bu konuda şu...   neutral   \n",
       "2996                          selocan nedir abicim ya ?   neutral   \n",
       "2997  özturkcell e dönücz diye korkuyorum ama çanakk...   neutral   \n",
       "2998  turkcell se 532 yi ara puk kodunu ogrenme menu...   neutral   \n",
       "2999  CHIP Galaxy Y ve Chat Türkiye'de!: Samsung'un ...   neutral   \n",
       "\n",
       "                                                 result  \n",
       "0     dun turkcelle tepkilerimizden sonra bugün turk...  \n",
       "1     girmezmiyim.. turkcell kartim bile var.. yarin...  \n",
       "2     tam tünelden gecerken 3g cekiyordu:d türkcell'...  \n",
       "3     turkcell superonline fiber internet veya adsl ...  \n",
       "4     bence gnçtrkcll ark winterfest 2012'de 1.olur ...  \n",
       "...                                                 ...  \n",
       "2995  evet kesinlikle çok az.. turkcell bu konuda şu...  \n",
       "2996                          selocan nedir abicim ya ?  \n",
       "2997  özturkcell e dönücz diye korkuyorum ama çanakk...  \n",
       "2998  turkcell se 532 yi ara puk kodunu ogrenme menu...  \n",
       "2999  chip galaxy y ve chat türkiye'de!: samsung'un ...  \n",
       "\n",
       "[3000 rows x 3 columns]"
      ]
     },
     "metadata": {},
     "output_type": "display_data"
    }
   ],
   "source": [
    "df[\"result\"] = df[\"Tweet\"].str.lower()\n",
    "display(df)"
   ]
  },
  {
   "attachments": {},
   "cell_type": "markdown",
   "id": "567eecf0",
   "metadata": {},
   "source": [
    "kelimenin sonunda 2 den fazla tekrarlana herf silme işlemi"
   ]
  },
  {
   "cell_type": "code",
   "execution_count": 10,
   "id": "5ac75f76",
   "metadata": {},
   "outputs": [],
   "source": [
    "def delete_repet_char(st):\n",
    "    return re.sub(r\"(.)\\1\\1+\",r\"\\1\\1\", st)\n",
    "df[\"result\"] = df[\"result\"].apply(lambda x: delete_repet_char(x))"
   ]
  },
  {
   "cell_type": "code",
   "execution_count": 11,
   "id": "e846169b",
   "metadata": {},
   "outputs": [
    {
     "data": {
      "text/html": [
       "<div>\n",
       "<style scoped>\n",
       "    .dataframe tbody tr th:only-of-type {\n",
       "        vertical-align: middle;\n",
       "    }\n",
       "\n",
       "    .dataframe tbody tr th {\n",
       "        vertical-align: top;\n",
       "    }\n",
       "\n",
       "    .dataframe thead th {\n",
       "        text-align: right;\n",
       "    }\n",
       "</style>\n",
       "<table border=\"1\" class=\"dataframe\">\n",
       "  <thead>\n",
       "    <tr style=\"text-align: right;\">\n",
       "      <th></th>\n",
       "      <th>Tweet</th>\n",
       "      <th>Class</th>\n",
       "      <th>result</th>\n",
       "    </tr>\n",
       "  </thead>\n",
       "  <tbody>\n",
       "    <tr>\n",
       "      <th>0</th>\n",
       "      <td>dun Turkcelle tepkilerimizden sonra bugün Turk...</td>\n",
       "      <td>positive</td>\n",
       "      <td>dun turkcelle tepkilerimizden sonra bugün turk...</td>\n",
       "    </tr>\n",
       "    <tr>\n",
       "      <th>1</th>\n",
       "      <td>girmezmiyim.. Turkcell kartim bile var.. Yarin...</td>\n",
       "      <td>positive</td>\n",
       "      <td>girmezmiyim.. turkcell kartim bile var.. yarin...</td>\n",
       "    </tr>\n",
       "    <tr>\n",
       "      <th>2</th>\n",
       "      <td>tam tünelden gecerken 3g cekiyordu:D türkcell'...</td>\n",
       "      <td>positive</td>\n",
       "      <td>tam tünelden gecerken 3g cekiyordu:d türkcell'...</td>\n",
       "    </tr>\n",
       "    <tr>\n",
       "      <th>3</th>\n",
       "      <td>turkcell superonline fiber internet veya ADSL ...</td>\n",
       "      <td>positive</td>\n",
       "      <td>turkcell superonline fiber internet veya adsl ...</td>\n",
       "    </tr>\n",
       "    <tr>\n",
       "      <th>4</th>\n",
       "      <td>bence Gnçtrkcll Ark Winterfest 2012'de 1.olur ...</td>\n",
       "      <td>positive</td>\n",
       "      <td>bence gnçtrkcll ark winterfest 2012'de 1.olur ...</td>\n",
       "    </tr>\n",
       "  </tbody>\n",
       "</table>\n",
       "</div>"
      ],
      "text/plain": [
       "                                               Tweet     Class  \\\n",
       "0  dun Turkcelle tepkilerimizden sonra bugün Turk...  positive   \n",
       "1  girmezmiyim.. Turkcell kartim bile var.. Yarin...  positive   \n",
       "2  tam tünelden gecerken 3g cekiyordu:D türkcell'...  positive   \n",
       "3  turkcell superonline fiber internet veya ADSL ...  positive   \n",
       "4  bence Gnçtrkcll Ark Winterfest 2012'de 1.olur ...  positive   \n",
       "\n",
       "                                              result  \n",
       "0  dun turkcelle tepkilerimizden sonra bugün turk...  \n",
       "1  girmezmiyim.. turkcell kartim bile var.. yarin...  \n",
       "2  tam tünelden gecerken 3g cekiyordu:d türkcell'...  \n",
       "3  turkcell superonline fiber internet veya adsl ...  \n",
       "4  bence gnçtrkcll ark winterfest 2012'de 1.olur ...  "
      ]
     },
     "execution_count": 11,
     "metadata": {},
     "output_type": "execute_result"
    }
   ],
   "source": [
    "df.head()"
   ]
  },
  {
   "cell_type": "code",
   "execution_count": 12,
   "id": "d7ce4342",
   "metadata": {},
   "outputs": [],
   "source": [
    "# veriler hasthag veya menthion veya linkler içermediği için bunlara temizlemek gerekmiyor ama olursa temizlememiz daha doğru olur"
   ]
  },
  {
   "cell_type": "code",
   "execution_count": 13,
   "id": "ad805dcb",
   "metadata": {},
   "outputs": [],
   "source": [
    "# harf veya rakam olmayan her şey sileriz şu şekildedir"
   ]
  },
  {
   "cell_type": "code",
   "execution_count": 14,
   "id": "1d0b1b25",
   "metadata": {},
   "outputs": [],
   "source": [
    "import string\n",
    "\n",
    "def delete_punctuation(st):\n",
    "    punctuations = string.punctuation\n",
    "    no_punct = \"\"\n",
    "    for char in st:\n",
    "        if char not in punctuations:\n",
    "            no_punct += char\n",
    "\n",
    "    return no_punct\n",
    "\n",
    "df[\"result\"] = df[\"result\"].apply(lambda x: delete_punctuation(x))"
   ]
  },
  {
   "cell_type": "code",
   "execution_count": 15,
   "id": "875ee938",
   "metadata": {},
   "outputs": [
    {
     "data": {
      "text/html": [
       "<div>\n",
       "<style scoped>\n",
       "    .dataframe tbody tr th:only-of-type {\n",
       "        vertical-align: middle;\n",
       "    }\n",
       "\n",
       "    .dataframe tbody tr th {\n",
       "        vertical-align: top;\n",
       "    }\n",
       "\n",
       "    .dataframe thead th {\n",
       "        text-align: right;\n",
       "    }\n",
       "</style>\n",
       "<table border=\"1\" class=\"dataframe\">\n",
       "  <thead>\n",
       "    <tr style=\"text-align: right;\">\n",
       "      <th></th>\n",
       "      <th>Tweet</th>\n",
       "      <th>Class</th>\n",
       "      <th>result</th>\n",
       "    </tr>\n",
       "  </thead>\n",
       "  <tbody>\n",
       "    <tr>\n",
       "      <th>2995</th>\n",
       "      <td>Evet kesinlikle çok az.. Turkcell bu konuda şu...</td>\n",
       "      <td>neutral</td>\n",
       "      <td>evet kesinlikle çok az turkcell bu konuda şu a...</td>\n",
       "    </tr>\n",
       "    <tr>\n",
       "      <th>2996</th>\n",
       "      <td>selocan nedir abicim ya ?</td>\n",
       "      <td>neutral</td>\n",
       "      <td>selocan nedir abicim ya</td>\n",
       "    </tr>\n",
       "    <tr>\n",
       "      <th>2997</th>\n",
       "      <td>özturkcell e dönücz diye korkuyorum ama çanakk...</td>\n",
       "      <td>neutral</td>\n",
       "      <td>özturkcell e dönücz diye korkuyorum ama çanakk...</td>\n",
       "    </tr>\n",
       "    <tr>\n",
       "      <th>2998</th>\n",
       "      <td>turkcell se 532 yi ara puk kodunu ogrenme menu...</td>\n",
       "      <td>neutral</td>\n",
       "      <td>turkcell se 532 yi ara puk kodunu ogrenme menu...</td>\n",
       "    </tr>\n",
       "    <tr>\n",
       "      <th>2999</th>\n",
       "      <td>CHIP Galaxy Y ve Chat Türkiye'de!: Samsung'un ...</td>\n",
       "      <td>neutral</td>\n",
       "      <td>chip galaxy y ve chat türkiyede samsungun komp...</td>\n",
       "    </tr>\n",
       "  </tbody>\n",
       "</table>\n",
       "</div>"
      ],
      "text/plain": [
       "                                                  Tweet    Class  \\\n",
       "2995  Evet kesinlikle çok az.. Turkcell bu konuda şu...  neutral   \n",
       "2996                          selocan nedir abicim ya ?  neutral   \n",
       "2997  özturkcell e dönücz diye korkuyorum ama çanakk...  neutral   \n",
       "2998  turkcell se 532 yi ara puk kodunu ogrenme menu...  neutral   \n",
       "2999  CHIP Galaxy Y ve Chat Türkiye'de!: Samsung'un ...  neutral   \n",
       "\n",
       "                                                 result  \n",
       "2995  evet kesinlikle çok az turkcell bu konuda şu a...  \n",
       "2996                           selocan nedir abicim ya   \n",
       "2997  özturkcell e dönücz diye korkuyorum ama çanakk...  \n",
       "2998  turkcell se 532 yi ara puk kodunu ogrenme menu...  \n",
       "2999  chip galaxy y ve chat türkiyede samsungun komp...  "
      ]
     },
     "execution_count": 15,
     "metadata": {},
     "output_type": "execute_result"
    }
   ],
   "source": [
    "df.tail()"
   ]
  },
  {
   "cell_type": "code",
   "execution_count": 16,
   "id": "0f050d99",
   "metadata": {},
   "outputs": [
    {
     "data": {
      "text/html": [
       "<div>\n",
       "<style scoped>\n",
       "    .dataframe tbody tr th:only-of-type {\n",
       "        vertical-align: middle;\n",
       "    }\n",
       "\n",
       "    .dataframe tbody tr th {\n",
       "        vertical-align: top;\n",
       "    }\n",
       "\n",
       "    .dataframe thead th {\n",
       "        text-align: right;\n",
       "    }\n",
       "</style>\n",
       "<table border=\"1\" class=\"dataframe\">\n",
       "  <thead>\n",
       "    <tr style=\"text-align: right;\">\n",
       "      <th></th>\n",
       "      <th>Tweet</th>\n",
       "      <th>Class</th>\n",
       "      <th>result</th>\n",
       "    </tr>\n",
       "  </thead>\n",
       "  <tbody>\n",
       "    <tr>\n",
       "      <th>0</th>\n",
       "      <td>dun Turkcelle tepkilerimizden sonra bugün Turk...</td>\n",
       "      <td>positive</td>\n",
       "      <td>dun turkcelle tepkilerimizden sonra bugün turk...</td>\n",
       "    </tr>\n",
       "    <tr>\n",
       "      <th>1</th>\n",
       "      <td>girmezmiyim.. Turkcell kartim bile var.. Yarin...</td>\n",
       "      <td>positive</td>\n",
       "      <td>girmezmiyim turkcell kartim bile var yarindan ...</td>\n",
       "    </tr>\n",
       "    <tr>\n",
       "      <th>2</th>\n",
       "      <td>tam tünelden gecerken 3g cekiyordu:D türkcell'...</td>\n",
       "      <td>positive</td>\n",
       "      <td>tam tünelden gecerken 3g cekiyordud türkcellin...</td>\n",
       "    </tr>\n",
       "    <tr>\n",
       "      <th>3</th>\n",
       "      <td>turkcell superonline fiber internet veya ADSL ...</td>\n",
       "      <td>positive</td>\n",
       "      <td>turkcell superonline fiber internet veya adsl ...</td>\n",
       "    </tr>\n",
       "    <tr>\n",
       "      <th>4</th>\n",
       "      <td>bence Gnçtrkcll Ark Winterfest 2012'de 1.olur ...</td>\n",
       "      <td>positive</td>\n",
       "      <td>bence gnçtrkcll ark winterfest 2012de 1olur da...</td>\n",
       "    </tr>\n",
       "  </tbody>\n",
       "</table>\n",
       "</div>"
      ],
      "text/plain": [
       "                                               Tweet     Class  \\\n",
       "0  dun Turkcelle tepkilerimizden sonra bugün Turk...  positive   \n",
       "1  girmezmiyim.. Turkcell kartim bile var.. Yarin...  positive   \n",
       "2  tam tünelden gecerken 3g cekiyordu:D türkcell'...  positive   \n",
       "3  turkcell superonline fiber internet veya ADSL ...  positive   \n",
       "4  bence Gnçtrkcll Ark Winterfest 2012'de 1.olur ...  positive   \n",
       "\n",
       "                                              result  \n",
       "0  dun turkcelle tepkilerimizden sonra bugün turk...  \n",
       "1  girmezmiyim turkcell kartim bile var yarindan ...  \n",
       "2  tam tünelden gecerken 3g cekiyordud türkcellin...  \n",
       "3  turkcell superonline fiber internet veya adsl ...  \n",
       "4  bence gnçtrkcll ark winterfest 2012de 1olur da...  "
      ]
     },
     "execution_count": 16,
     "metadata": {},
     "output_type": "execute_result"
    }
   ],
   "source": [
    "df.head()"
   ]
  },
  {
   "attachments": {},
   "cell_type": "markdown",
   "id": "136fe059",
   "metadata": {},
   "source": [
    "## tokenization"
   ]
  },
  {
   "cell_type": "code",
   "execution_count": 17,
   "id": "da56ba46",
   "metadata": {},
   "outputs": [],
   "source": [
    "df[\"result\"] = df[\"result\"].apply(lambda x :word_tokenize(x))"
   ]
  },
  {
   "cell_type": "code",
   "execution_count": 18,
   "id": "91e35715",
   "metadata": {},
   "outputs": [
    {
     "data": {
      "text/html": [
       "<div>\n",
       "<style scoped>\n",
       "    .dataframe tbody tr th:only-of-type {\n",
       "        vertical-align: middle;\n",
       "    }\n",
       "\n",
       "    .dataframe tbody tr th {\n",
       "        vertical-align: top;\n",
       "    }\n",
       "\n",
       "    .dataframe thead th {\n",
       "        text-align: right;\n",
       "    }\n",
       "</style>\n",
       "<table border=\"1\" class=\"dataframe\">\n",
       "  <thead>\n",
       "    <tr style=\"text-align: right;\">\n",
       "      <th></th>\n",
       "      <th>Tweet</th>\n",
       "      <th>Class</th>\n",
       "      <th>result</th>\n",
       "    </tr>\n",
       "  </thead>\n",
       "  <tbody>\n",
       "    <tr>\n",
       "      <th>0</th>\n",
       "      <td>dun Turkcelle tepkilerimizden sonra bugün Turk...</td>\n",
       "      <td>positive</td>\n",
       "      <td>[dun, turkcelle, tepkilerimizden, sonra, bugün...</td>\n",
       "    </tr>\n",
       "    <tr>\n",
       "      <th>1</th>\n",
       "      <td>girmezmiyim.. Turkcell kartim bile var.. Yarin...</td>\n",
       "      <td>positive</td>\n",
       "      <td>[girmezmiyim, turkcell, kartim, bile, var, yar...</td>\n",
       "    </tr>\n",
       "    <tr>\n",
       "      <th>2</th>\n",
       "      <td>tam tünelden gecerken 3g cekiyordu:D türkcell'...</td>\n",
       "      <td>positive</td>\n",
       "      <td>[tam, tünelden, gecerken, 3g, cekiyordud, türk...</td>\n",
       "    </tr>\n",
       "    <tr>\n",
       "      <th>3</th>\n",
       "      <td>turkcell superonline fiber internet veya ADSL ...</td>\n",
       "      <td>positive</td>\n",
       "      <td>[turkcell, superonline, fiber, internet, veya,...</td>\n",
       "    </tr>\n",
       "    <tr>\n",
       "      <th>4</th>\n",
       "      <td>bence Gnçtrkcll Ark Winterfest 2012'de 1.olur ...</td>\n",
       "      <td>positive</td>\n",
       "      <td>[bence, gnçtrkcll, ark, winterfest, 2012de, 1o...</td>\n",
       "    </tr>\n",
       "  </tbody>\n",
       "</table>\n",
       "</div>"
      ],
      "text/plain": [
       "                                               Tweet     Class  \\\n",
       "0  dun Turkcelle tepkilerimizden sonra bugün Turk...  positive   \n",
       "1  girmezmiyim.. Turkcell kartim bile var.. Yarin...  positive   \n",
       "2  tam tünelden gecerken 3g cekiyordu:D türkcell'...  positive   \n",
       "3  turkcell superonline fiber internet veya ADSL ...  positive   \n",
       "4  bence Gnçtrkcll Ark Winterfest 2012'de 1.olur ...  positive   \n",
       "\n",
       "                                              result  \n",
       "0  [dun, turkcelle, tepkilerimizden, sonra, bugün...  \n",
       "1  [girmezmiyim, turkcell, kartim, bile, var, yar...  \n",
       "2  [tam, tünelden, gecerken, 3g, cekiyordud, türk...  \n",
       "3  [turkcell, superonline, fiber, internet, veya,...  \n",
       "4  [bence, gnçtrkcll, ark, winterfest, 2012de, 1o...  "
      ]
     },
     "execution_count": 18,
     "metadata": {},
     "output_type": "execute_result"
    }
   ],
   "source": [
    "df.head()"
   ]
  },
  {
   "attachments": {},
   "cell_type": "markdown",
   "id": "a2884013",
   "metadata": {},
   "source": [
    "## STOP WORD SİLMEK"
   ]
  },
  {
   "cell_type": "code",
   "execution_count": 19,
   "id": "3dab57de",
   "metadata": {},
   "outputs": [],
   "source": [
    "def read_txt_file_to_list(path, name):\n",
    "    list = []\n",
    "    with open(os.path.join(path, name), \"r\", encoding=\"utf-8\") as f:\n",
    "        for i in f:\n",
    "            list.append(i.strip())\n",
    "    return list\n",
    "stop_word_1 = read_txt_file_to_list(\"C:/Users/ALAAEDDIN/PycharmProjects/pythonProject2/raw_texts\", \"stop-words_turkish_1_tr.txt\")\n",
    "stop_word_1 = stop_word_1[3:]\n",
    "df[\"result\"] = df[\"result\"].apply(lambda x: [item for item in x if item not in stop_word_1])\n"
   ]
  },
  {
   "cell_type": "code",
   "execution_count": 20,
   "id": "ff9be6ea",
   "metadata": {},
   "outputs": [
    {
     "data": {
      "text/html": [
       "<div>\n",
       "<style scoped>\n",
       "    .dataframe tbody tr th:only-of-type {\n",
       "        vertical-align: middle;\n",
       "    }\n",
       "\n",
       "    .dataframe tbody tr th {\n",
       "        vertical-align: top;\n",
       "    }\n",
       "\n",
       "    .dataframe thead th {\n",
       "        text-align: right;\n",
       "    }\n",
       "</style>\n",
       "<table border=\"1\" class=\"dataframe\">\n",
       "  <thead>\n",
       "    <tr style=\"text-align: right;\">\n",
       "      <th></th>\n",
       "      <th>Tweet</th>\n",
       "      <th>Class</th>\n",
       "      <th>result</th>\n",
       "    </tr>\n",
       "  </thead>\n",
       "  <tbody>\n",
       "    <tr>\n",
       "      <th>0</th>\n",
       "      <td>dun Turkcelle tepkilerimizden sonra bugün Turk...</td>\n",
       "      <td>positive</td>\n",
       "      <td>[dun, turkcelle, tepkilerimizden, sonra, bugün...</td>\n",
       "    </tr>\n",
       "    <tr>\n",
       "      <th>1</th>\n",
       "      <td>girmezmiyim.. Turkcell kartim bile var.. Yarin...</td>\n",
       "      <td>positive</td>\n",
       "      <td>[girmezmiyim, turkcell, kartim, yarindan, taki...</td>\n",
       "    </tr>\n",
       "    <tr>\n",
       "      <th>2</th>\n",
       "      <td>tam tünelden gecerken 3g cekiyordu:D türkcell'...</td>\n",
       "      <td>positive</td>\n",
       "      <td>[tam, tünelden, gecerken, 3g, cekiyordud, türk...</td>\n",
       "    </tr>\n",
       "    <tr>\n",
       "      <th>3</th>\n",
       "      <td>turkcell superonline fiber internet veya ADSL ...</td>\n",
       "      <td>positive</td>\n",
       "      <td>[turkcell, superonline, fiber, internet, adsl,...</td>\n",
       "    </tr>\n",
       "    <tr>\n",
       "      <th>4</th>\n",
       "      <td>bence Gnçtrkcll Ark Winterfest 2012'de 1.olur ...</td>\n",
       "      <td>positive</td>\n",
       "      <td>[bence, gnçtrkcll, ark, winterfest, 2012de, 1o...</td>\n",
       "    </tr>\n",
       "  </tbody>\n",
       "</table>\n",
       "</div>"
      ],
      "text/plain": [
       "                                               Tweet     Class  \\\n",
       "0  dun Turkcelle tepkilerimizden sonra bugün Turk...  positive   \n",
       "1  girmezmiyim.. Turkcell kartim bile var.. Yarin...  positive   \n",
       "2  tam tünelden gecerken 3g cekiyordu:D türkcell'...  positive   \n",
       "3  turkcell superonline fiber internet veya ADSL ...  positive   \n",
       "4  bence Gnçtrkcll Ark Winterfest 2012'de 1.olur ...  positive   \n",
       "\n",
       "                                              result  \n",
       "0  [dun, turkcelle, tepkilerimizden, sonra, bugün...  \n",
       "1  [girmezmiyim, turkcell, kartim, yarindan, taki...  \n",
       "2  [tam, tünelden, gecerken, 3g, cekiyordud, türk...  \n",
       "3  [turkcell, superonline, fiber, internet, adsl,...  \n",
       "4  [bence, gnçtrkcll, ark, winterfest, 2012de, 1o...  "
      ]
     },
     "execution_count": 20,
     "metadata": {},
     "output_type": "execute_result"
    }
   ],
   "source": [
    "df.head()"
   ]
  },
  {
   "attachments": {},
   "cell_type": "markdown",
   "id": "67dce24a",
   "metadata": {},
   "source": [
    "## TD-IDF İŞLEMLERİ"
   ]
  },
  {
   "cell_type": "code",
   "execution_count": 21,
   "id": "092d9122",
   "metadata": {
    "scrolled": true
   },
   "outputs": [
    {
     "name": "stdout",
     "output_type": "stream",
     "text": [
      "The new shape for X is (3000, 12237)\n"
     ]
    },
    {
     "data": {
      "text/html": [
       "<div>\n",
       "<style scoped>\n",
       "    .dataframe tbody tr th:only-of-type {\n",
       "        vertical-align: middle;\n",
       "    }\n",
       "\n",
       "    .dataframe tbody tr th {\n",
       "        vertical-align: top;\n",
       "    }\n",
       "\n",
       "    .dataframe thead th {\n",
       "        text-align: right;\n",
       "    }\n",
       "</style>\n",
       "<table border=\"1\" class=\"dataframe\">\n",
       "  <thead>\n",
       "    <tr style=\"text-align: right;\">\n",
       "      <th></th>\n",
       "      <th>0</th>\n",
       "      <th>1</th>\n",
       "      <th>2</th>\n",
       "      <th>3</th>\n",
       "      <th>4</th>\n",
       "      <th>5</th>\n",
       "      <th>6</th>\n",
       "      <th>7</th>\n",
       "      <th>8</th>\n",
       "      <th>9</th>\n",
       "      <th>...</th>\n",
       "      <th>12227</th>\n",
       "      <th>12228</th>\n",
       "      <th>12229</th>\n",
       "      <th>12230</th>\n",
       "      <th>12231</th>\n",
       "      <th>12232</th>\n",
       "      <th>12233</th>\n",
       "      <th>12234</th>\n",
       "      <th>12235</th>\n",
       "      <th>12236</th>\n",
       "    </tr>\n",
       "  </thead>\n",
       "  <tbody>\n",
       "    <tr>\n",
       "      <th>0</th>\n",
       "      <td>0.0</td>\n",
       "      <td>0.0</td>\n",
       "      <td>0.0</td>\n",
       "      <td>0.0</td>\n",
       "      <td>0.0</td>\n",
       "      <td>0.0</td>\n",
       "      <td>0.0</td>\n",
       "      <td>0.0</td>\n",
       "      <td>0.0</td>\n",
       "      <td>0.0</td>\n",
       "      <td>...</td>\n",
       "      <td>0.0</td>\n",
       "      <td>0.0</td>\n",
       "      <td>0.0</td>\n",
       "      <td>0.0</td>\n",
       "      <td>0.0</td>\n",
       "      <td>0.0</td>\n",
       "      <td>0.0</td>\n",
       "      <td>0.0</td>\n",
       "      <td>0.0</td>\n",
       "      <td>0.0</td>\n",
       "    </tr>\n",
       "    <tr>\n",
       "      <th>1</th>\n",
       "      <td>0.0</td>\n",
       "      <td>0.0</td>\n",
       "      <td>0.0</td>\n",
       "      <td>0.0</td>\n",
       "      <td>0.0</td>\n",
       "      <td>0.0</td>\n",
       "      <td>0.0</td>\n",
       "      <td>0.0</td>\n",
       "      <td>0.0</td>\n",
       "      <td>0.0</td>\n",
       "      <td>...</td>\n",
       "      <td>0.0</td>\n",
       "      <td>0.0</td>\n",
       "      <td>0.0</td>\n",
       "      <td>0.0</td>\n",
       "      <td>0.0</td>\n",
       "      <td>0.0</td>\n",
       "      <td>0.0</td>\n",
       "      <td>0.0</td>\n",
       "      <td>0.0</td>\n",
       "      <td>0.0</td>\n",
       "    </tr>\n",
       "    <tr>\n",
       "      <th>2</th>\n",
       "      <td>0.0</td>\n",
       "      <td>0.0</td>\n",
       "      <td>0.0</td>\n",
       "      <td>0.0</td>\n",
       "      <td>0.0</td>\n",
       "      <td>0.0</td>\n",
       "      <td>0.0</td>\n",
       "      <td>0.0</td>\n",
       "      <td>0.0</td>\n",
       "      <td>0.0</td>\n",
       "      <td>...</td>\n",
       "      <td>0.0</td>\n",
       "      <td>0.0</td>\n",
       "      <td>0.0</td>\n",
       "      <td>0.0</td>\n",
       "      <td>0.0</td>\n",
       "      <td>0.0</td>\n",
       "      <td>0.0</td>\n",
       "      <td>0.0</td>\n",
       "      <td>0.0</td>\n",
       "      <td>0.0</td>\n",
       "    </tr>\n",
       "    <tr>\n",
       "      <th>3</th>\n",
       "      <td>0.0</td>\n",
       "      <td>0.0</td>\n",
       "      <td>0.0</td>\n",
       "      <td>0.0</td>\n",
       "      <td>0.0</td>\n",
       "      <td>0.0</td>\n",
       "      <td>0.0</td>\n",
       "      <td>0.0</td>\n",
       "      <td>0.0</td>\n",
       "      <td>0.0</td>\n",
       "      <td>...</td>\n",
       "      <td>0.0</td>\n",
       "      <td>0.0</td>\n",
       "      <td>0.0</td>\n",
       "      <td>0.0</td>\n",
       "      <td>0.0</td>\n",
       "      <td>0.0</td>\n",
       "      <td>0.0</td>\n",
       "      <td>0.0</td>\n",
       "      <td>0.0</td>\n",
       "      <td>0.0</td>\n",
       "    </tr>\n",
       "    <tr>\n",
       "      <th>4</th>\n",
       "      <td>0.0</td>\n",
       "      <td>0.0</td>\n",
       "      <td>0.0</td>\n",
       "      <td>0.0</td>\n",
       "      <td>0.0</td>\n",
       "      <td>0.0</td>\n",
       "      <td>0.0</td>\n",
       "      <td>0.0</td>\n",
       "      <td>0.0</td>\n",
       "      <td>0.0</td>\n",
       "      <td>...</td>\n",
       "      <td>0.0</td>\n",
       "      <td>0.0</td>\n",
       "      <td>0.0</td>\n",
       "      <td>0.0</td>\n",
       "      <td>0.0</td>\n",
       "      <td>0.0</td>\n",
       "      <td>0.0</td>\n",
       "      <td>0.0</td>\n",
       "      <td>0.0</td>\n",
       "      <td>0.0</td>\n",
       "    </tr>\n",
       "  </tbody>\n",
       "</table>\n",
       "<p>5 rows × 12237 columns</p>\n",
       "</div>"
      ],
      "text/plain": [
       "   0      1      2      3      4      5      6      7      8      9      ...  \\\n",
       "0    0.0    0.0    0.0    0.0    0.0    0.0    0.0    0.0    0.0    0.0  ...   \n",
       "1    0.0    0.0    0.0    0.0    0.0    0.0    0.0    0.0    0.0    0.0  ...   \n",
       "2    0.0    0.0    0.0    0.0    0.0    0.0    0.0    0.0    0.0    0.0  ...   \n",
       "3    0.0    0.0    0.0    0.0    0.0    0.0    0.0    0.0    0.0    0.0  ...   \n",
       "4    0.0    0.0    0.0    0.0    0.0    0.0    0.0    0.0    0.0    0.0  ...   \n",
       "\n",
       "   12227  12228  12229  12230  12231  12232  12233  12234  12235  12236  \n",
       "0    0.0    0.0    0.0    0.0    0.0    0.0    0.0    0.0    0.0    0.0  \n",
       "1    0.0    0.0    0.0    0.0    0.0    0.0    0.0    0.0    0.0    0.0  \n",
       "2    0.0    0.0    0.0    0.0    0.0    0.0    0.0    0.0    0.0    0.0  \n",
       "3    0.0    0.0    0.0    0.0    0.0    0.0    0.0    0.0    0.0    0.0  \n",
       "4    0.0    0.0    0.0    0.0    0.0    0.0    0.0    0.0    0.0    0.0  \n",
       "\n",
       "[5 rows x 12237 columns]"
      ]
     },
     "execution_count": 21,
     "metadata": {},
     "output_type": "execute_result"
    }
   ],
   "source": [
    "X = df[\"result\"]\n",
    "y = df[\"Class\"]\n",
    "\n",
    "VecModel = TfidfVectorizer()\n",
    "X_Vec = VecModel.fit_transform(X.apply(lambda x: \" \".join(x)).values)\n",
    "X_Vec = pd.DataFrame.sparse.from_spmatrix(X_Vec)\n",
    "\n",
    "print(f'The new shape for X is {X_Vec.shape}')\n",
    "X_Vec.head()\n"
   ]
  },
  {
   "attachments": {},
   "cell_type": "markdown",
   "id": "8dd2d27b",
   "metadata": {},
   "source": [
    "## elde ettiğimiz yeni tabloyu bir csv olarak kayıdetme ve sınıflara binary encoding yapmak"
   ]
  },
  {
   "cell_type": "code",
   "execution_count": 22,
   "id": "99f5efce",
   "metadata": {},
   "outputs": [
    {
     "data": {
      "text/html": [
       "<div>\n",
       "<style scoped>\n",
       "    .dataframe tbody tr th:only-of-type {\n",
       "        vertical-align: middle;\n",
       "    }\n",
       "\n",
       "    .dataframe tbody tr th {\n",
       "        vertical-align: top;\n",
       "    }\n",
       "\n",
       "    .dataframe thead th {\n",
       "        text-align: right;\n",
       "    }\n",
       "</style>\n",
       "<table border=\"1\" class=\"dataframe\">\n",
       "  <thead>\n",
       "    <tr style=\"text-align: right;\">\n",
       "      <th></th>\n",
       "      <th>0</th>\n",
       "      <th>1</th>\n",
       "      <th>2</th>\n",
       "      <th>3</th>\n",
       "      <th>4</th>\n",
       "      <th>5</th>\n",
       "      <th>6</th>\n",
       "      <th>7</th>\n",
       "      <th>8</th>\n",
       "      <th>9</th>\n",
       "      <th>...</th>\n",
       "      <th>12228</th>\n",
       "      <th>12229</th>\n",
       "      <th>12230</th>\n",
       "      <th>12231</th>\n",
       "      <th>12232</th>\n",
       "      <th>12233</th>\n",
       "      <th>12234</th>\n",
       "      <th>12235</th>\n",
       "      <th>12236</th>\n",
       "      <th>Class</th>\n",
       "    </tr>\n",
       "  </thead>\n",
       "  <tbody>\n",
       "    <tr>\n",
       "      <th>2995</th>\n",
       "      <td>0.0</td>\n",
       "      <td>0.0</td>\n",
       "      <td>0.0</td>\n",
       "      <td>0.0</td>\n",
       "      <td>0.0</td>\n",
       "      <td>0.0</td>\n",
       "      <td>0.0</td>\n",
       "      <td>0.0</td>\n",
       "      <td>0.0</td>\n",
       "      <td>0.0</td>\n",
       "      <td>...</td>\n",
       "      <td>0.0</td>\n",
       "      <td>0.0</td>\n",
       "      <td>0.0</td>\n",
       "      <td>0.0</td>\n",
       "      <td>0.0</td>\n",
       "      <td>0.0</td>\n",
       "      <td>0.0</td>\n",
       "      <td>0.0</td>\n",
       "      <td>0.0</td>\n",
       "      <td>2</td>\n",
       "    </tr>\n",
       "    <tr>\n",
       "      <th>2996</th>\n",
       "      <td>0.0</td>\n",
       "      <td>0.0</td>\n",
       "      <td>0.0</td>\n",
       "      <td>0.0</td>\n",
       "      <td>0.0</td>\n",
       "      <td>0.0</td>\n",
       "      <td>0.0</td>\n",
       "      <td>0.0</td>\n",
       "      <td>0.0</td>\n",
       "      <td>0.0</td>\n",
       "      <td>...</td>\n",
       "      <td>0.0</td>\n",
       "      <td>0.0</td>\n",
       "      <td>0.0</td>\n",
       "      <td>0.0</td>\n",
       "      <td>0.0</td>\n",
       "      <td>0.0</td>\n",
       "      <td>0.0</td>\n",
       "      <td>0.0</td>\n",
       "      <td>0.0</td>\n",
       "      <td>2</td>\n",
       "    </tr>\n",
       "    <tr>\n",
       "      <th>2997</th>\n",
       "      <td>0.0</td>\n",
       "      <td>0.0</td>\n",
       "      <td>0.0</td>\n",
       "      <td>0.0</td>\n",
       "      <td>0.0</td>\n",
       "      <td>0.0</td>\n",
       "      <td>0.0</td>\n",
       "      <td>0.0</td>\n",
       "      <td>0.0</td>\n",
       "      <td>0.0</td>\n",
       "      <td>...</td>\n",
       "      <td>0.0</td>\n",
       "      <td>0.0</td>\n",
       "      <td>0.0</td>\n",
       "      <td>0.0</td>\n",
       "      <td>0.0</td>\n",
       "      <td>0.0</td>\n",
       "      <td>0.0</td>\n",
       "      <td>0.0</td>\n",
       "      <td>0.0</td>\n",
       "      <td>2</td>\n",
       "    </tr>\n",
       "    <tr>\n",
       "      <th>2998</th>\n",
       "      <td>0.0</td>\n",
       "      <td>0.0</td>\n",
       "      <td>0.0</td>\n",
       "      <td>0.0</td>\n",
       "      <td>0.0</td>\n",
       "      <td>0.0</td>\n",
       "      <td>0.0</td>\n",
       "      <td>0.0</td>\n",
       "      <td>0.0</td>\n",
       "      <td>0.0</td>\n",
       "      <td>...</td>\n",
       "      <td>0.0</td>\n",
       "      <td>0.0</td>\n",
       "      <td>0.0</td>\n",
       "      <td>0.0</td>\n",
       "      <td>0.0</td>\n",
       "      <td>0.0</td>\n",
       "      <td>0.0</td>\n",
       "      <td>0.0</td>\n",
       "      <td>0.0</td>\n",
       "      <td>2</td>\n",
       "    </tr>\n",
       "    <tr>\n",
       "      <th>2999</th>\n",
       "      <td>0.0</td>\n",
       "      <td>0.0</td>\n",
       "      <td>0.0</td>\n",
       "      <td>0.0</td>\n",
       "      <td>0.0</td>\n",
       "      <td>0.0</td>\n",
       "      <td>0.0</td>\n",
       "      <td>0.0</td>\n",
       "      <td>0.0</td>\n",
       "      <td>0.0</td>\n",
       "      <td>...</td>\n",
       "      <td>0.0</td>\n",
       "      <td>0.0</td>\n",
       "      <td>0.0</td>\n",
       "      <td>0.0</td>\n",
       "      <td>0.0</td>\n",
       "      <td>0.0</td>\n",
       "      <td>0.0</td>\n",
       "      <td>0.0</td>\n",
       "      <td>0.0</td>\n",
       "      <td>2</td>\n",
       "    </tr>\n",
       "  </tbody>\n",
       "</table>\n",
       "<p>5 rows × 12238 columns</p>\n",
       "</div>"
      ],
      "text/plain": [
       "        0    1    2    3    4    5    6    7    8    9  ...  12228  12229  \\\n",
       "2995  0.0  0.0  0.0  0.0  0.0  0.0  0.0  0.0  0.0  0.0  ...    0.0    0.0   \n",
       "2996  0.0  0.0  0.0  0.0  0.0  0.0  0.0  0.0  0.0  0.0  ...    0.0    0.0   \n",
       "2997  0.0  0.0  0.0  0.0  0.0  0.0  0.0  0.0  0.0  0.0  ...    0.0    0.0   \n",
       "2998  0.0  0.0  0.0  0.0  0.0  0.0  0.0  0.0  0.0  0.0  ...    0.0    0.0   \n",
       "2999  0.0  0.0  0.0  0.0  0.0  0.0  0.0  0.0  0.0  0.0  ...    0.0    0.0   \n",
       "\n",
       "      12230  12231  12232  12233  12234  12235  12236  Class  \n",
       "2995    0.0    0.0    0.0    0.0    0.0    0.0    0.0      2  \n",
       "2996    0.0    0.0    0.0    0.0    0.0    0.0    0.0      2  \n",
       "2997    0.0    0.0    0.0    0.0    0.0    0.0    0.0      2  \n",
       "2998    0.0    0.0    0.0    0.0    0.0    0.0    0.0      2  \n",
       "2999    0.0    0.0    0.0    0.0    0.0    0.0    0.0      2  \n",
       "\n",
       "[5 rows x 12238 columns]"
      ]
     },
     "execution_count": 22,
     "metadata": {},
     "output_type": "execute_result"
    }
   ],
   "source": [
    "tablo = X_Vec\n",
    "tablo[\"Class\"] = y\n",
    "encoder = LabelEncoder()\n",
    "tablo[\"Class\"] = tablo[\"Class\"].apply(lambda x : 0 if x == \"positive\" else 1 if x==\"negative\" else 2)\n",
    "tablo.tail()\n",
    "# tablo.to_csv(\"C:/Users/ALAAEDDIN/PycharmProjects/pythonProject2/raw_texts/son_tablo.csv\", index=False)"
   ]
  },
  {
   "attachments": {},
   "cell_type": "markdown",
   "id": "4b3a2176",
   "metadata": {},
   "source": [
    "## Feature seçmek / azaltmak (chi kare yöntemi kullandım başka da olabilir ve feature 40% aldım "
   ]
  },
  {
   "cell_type": "code",
   "execution_count": 23,
   "id": "168ad1f2",
   "metadata": {},
   "outputs": [
    {
     "name": "stderr",
     "output_type": "stream",
     "text": [
      "C:\\Users\\ALAAEDDIN\\anaconda3\\lib\\site-packages\\sklearn\\utils\\validation.py:1858: FutureWarning: Feature names only support names that are all strings. Got feature names with dtypes: ['int', 'str']. An error will be raised in 1.2.\n",
      "  warnings.warn(\n",
      "C:\\Users\\ALAAEDDIN\\anaconda3\\lib\\site-packages\\sklearn\\utils\\validation.py:758: UserWarning: pandas.DataFrame with sparse columns found.It will be converted to a dense numpy array.\n",
      "  warnings.warn(\n",
      "C:\\Users\\ALAAEDDIN\\anaconda3\\lib\\site-packages\\sklearn\\utils\\validation.py:1858: FutureWarning: Feature names only support names that are all strings. Got feature names with dtypes: ['int', 'str']. An error will be raised in 1.2.\n",
      "  warnings.warn(\n",
      "C:\\Users\\ALAAEDDIN\\anaconda3\\lib\\site-packages\\sklearn\\utils\\validation.py:758: UserWarning: pandas.DataFrame with sparse columns found.It will be converted to a dense numpy array.\n",
      "  warnings.warn(\n"
     ]
    }
   ],
   "source": [
    "y = tablo[\"Class\"]\n",
    "FeatureSelection = SelectPercentile(score_func = chi2, percentile=40 )\n",
    "X = FeatureSelection.fit_transform(X_Vec, y)"
   ]
  },
  {
   "attachments": {},
   "cell_type": "markdown",
   "id": "60e4af8c",
   "metadata": {},
   "source": [
    "## train data and test data ayırma 20% 80% olarak"
   ]
  },
  {
   "cell_type": "code",
   "execution_count": 24,
   "id": "1dc58de5",
   "metadata": {},
   "outputs": [],
   "source": [
    "x_train, x_test, y_train, y_test = train_test_split(X, y, test_size=0.2, random_state=42)"
   ]
  },
  {
   "cell_type": "code",
   "execution_count": 25,
   "id": "a29fc58c",
   "metadata": {},
   "outputs": [],
   "source": [
    "# Model"
   ]
  },
  {
   "attachments": {},
   "cell_type": "markdown",
   "id": "a02f411d",
   "metadata": {},
   "source": [
    "## Model kurma işlemi (K-NN algoritmasını kullanarak)"
   ]
  },
  {
   "cell_type": "code",
   "execution_count": 26,
   "id": "d0bd1afb",
   "metadata": {},
   "outputs": [],
   "source": [
    "model = KNeighborsClassifier()"
   ]
  },
  {
   "cell_type": "code",
   "execution_count": 27,
   "id": "9f973b35",
   "metadata": {},
   "outputs": [
    {
     "data": {
      "text/html": [
       "<style>#sk-container-id-1 {color: black;background-color: white;}#sk-container-id-1 pre{padding: 0;}#sk-container-id-1 div.sk-toggleable {background-color: white;}#sk-container-id-1 label.sk-toggleable__label {cursor: pointer;display: block;width: 100%;margin-bottom: 0;padding: 0.3em;box-sizing: border-box;text-align: center;}#sk-container-id-1 label.sk-toggleable__label-arrow:before {content: \"▸\";float: left;margin-right: 0.25em;color: #696969;}#sk-container-id-1 label.sk-toggleable__label-arrow:hover:before {color: black;}#sk-container-id-1 div.sk-estimator:hover label.sk-toggleable__label-arrow:before {color: black;}#sk-container-id-1 div.sk-toggleable__content {max-height: 0;max-width: 0;overflow: hidden;text-align: left;background-color: #f0f8ff;}#sk-container-id-1 div.sk-toggleable__content pre {margin: 0.2em;color: black;border-radius: 0.25em;background-color: #f0f8ff;}#sk-container-id-1 input.sk-toggleable__control:checked~div.sk-toggleable__content {max-height: 200px;max-width: 100%;overflow: auto;}#sk-container-id-1 input.sk-toggleable__control:checked~label.sk-toggleable__label-arrow:before {content: \"▾\";}#sk-container-id-1 div.sk-estimator input.sk-toggleable__control:checked~label.sk-toggleable__label {background-color: #d4ebff;}#sk-container-id-1 div.sk-label input.sk-toggleable__control:checked~label.sk-toggleable__label {background-color: #d4ebff;}#sk-container-id-1 input.sk-hidden--visually {border: 0;clip: rect(1px 1px 1px 1px);clip: rect(1px, 1px, 1px, 1px);height: 1px;margin: -1px;overflow: hidden;padding: 0;position: absolute;width: 1px;}#sk-container-id-1 div.sk-estimator {font-family: monospace;background-color: #f0f8ff;border: 1px dotted black;border-radius: 0.25em;box-sizing: border-box;margin-bottom: 0.5em;}#sk-container-id-1 div.sk-estimator:hover {background-color: #d4ebff;}#sk-container-id-1 div.sk-parallel-item::after {content: \"\";width: 100%;border-bottom: 1px solid gray;flex-grow: 1;}#sk-container-id-1 div.sk-label:hover label.sk-toggleable__label {background-color: #d4ebff;}#sk-container-id-1 div.sk-serial::before {content: \"\";position: absolute;border-left: 1px solid gray;box-sizing: border-box;top: 0;bottom: 0;left: 50%;z-index: 0;}#sk-container-id-1 div.sk-serial {display: flex;flex-direction: column;align-items: center;background-color: white;padding-right: 0.2em;padding-left: 0.2em;position: relative;}#sk-container-id-1 div.sk-item {position: relative;z-index: 1;}#sk-container-id-1 div.sk-parallel {display: flex;align-items: stretch;justify-content: center;background-color: white;position: relative;}#sk-container-id-1 div.sk-item::before, #sk-container-id-1 div.sk-parallel-item::before {content: \"\";position: absolute;border-left: 1px solid gray;box-sizing: border-box;top: 0;bottom: 0;left: 50%;z-index: -1;}#sk-container-id-1 div.sk-parallel-item {display: flex;flex-direction: column;z-index: 1;position: relative;background-color: white;}#sk-container-id-1 div.sk-parallel-item:first-child::after {align-self: flex-end;width: 50%;}#sk-container-id-1 div.sk-parallel-item:last-child::after {align-self: flex-start;width: 50%;}#sk-container-id-1 div.sk-parallel-item:only-child::after {width: 0;}#sk-container-id-1 div.sk-dashed-wrapped {border: 1px dashed gray;margin: 0 0.4em 0.5em 0.4em;box-sizing: border-box;padding-bottom: 0.4em;background-color: white;}#sk-container-id-1 div.sk-label label {font-family: monospace;font-weight: bold;display: inline-block;line-height: 1.2em;}#sk-container-id-1 div.sk-label-container {text-align: center;}#sk-container-id-1 div.sk-container {/* jupyter's `normalize.less` sets `[hidden] { display: none; }` but bootstrap.min.css set `[hidden] { display: none !important; }` so we also need the `!important` here to be able to override the default hidden behavior on the sphinx rendered scikit-learn.org. See: https://github.com/scikit-learn/scikit-learn/issues/21755 */display: inline-block !important;position: relative;}#sk-container-id-1 div.sk-text-repr-fallback {display: none;}</style><div id=\"sk-container-id-1\" class=\"sk-top-container\"><div class=\"sk-text-repr-fallback\"><pre>KNeighborsClassifier()</pre><b>In a Jupyter environment, please rerun this cell to show the HTML representation or trust the notebook. <br />On GitHub, the HTML representation is unable to render, please try loading this page with nbviewer.org.</b></div><div class=\"sk-container\" hidden><div class=\"sk-item\"><div class=\"sk-estimator sk-toggleable\"><input class=\"sk-toggleable__control sk-hidden--visually\" id=\"sk-estimator-id-1\" type=\"checkbox\" checked><label for=\"sk-estimator-id-1\" class=\"sk-toggleable__label sk-toggleable__label-arrow\">KNeighborsClassifier</label><div class=\"sk-toggleable__content\"><pre>KNeighborsClassifier()</pre></div></div></div></div></div>"
      ],
      "text/plain": [
       "KNeighborsClassifier()"
      ]
     },
     "execution_count": 27,
     "metadata": {},
     "output_type": "execute_result"
    }
   ],
   "source": [
    "model.fit(x_train, y_train)"
   ]
  },
  {
   "attachments": {},
   "cell_type": "markdown",
   "id": "7c9a3bce",
   "metadata": {},
   "source": [
    "## 10-fold cross valdation uygulama"
   ]
  },
  {
   "cell_type": "code",
   "execution_count": 28,
   "id": "57549221",
   "metadata": {},
   "outputs": [],
   "source": [
    "results_train = cross_validate(model, x_train, y_train, cv=10, scoring=[\"accuracy\"])"
   ]
  },
  {
   "cell_type": "code",
   "execution_count": 29,
   "id": "8c3a9cfb",
   "metadata": {},
   "outputs": [
    {
     "data": {
      "text/plain": [
       "1.0"
      ]
     },
     "execution_count": 29,
     "metadata": {},
     "output_type": "execute_result"
    }
   ],
   "source": [
    "\n",
    "results_train[\"test_accuracy\"].mean()"
   ]
  },
  {
   "cell_type": "code",
   "execution_count": 30,
   "id": "3cde0a3d",
   "metadata": {},
   "outputs": [],
   "source": [
    "results_test = cross_validate(model, x_test, y_test, cv=10, scoring=[\"accuracy\"])"
   ]
  },
  {
   "cell_type": "code",
   "execution_count": 31,
   "id": "aa8ccc94",
   "metadata": {},
   "outputs": [
    {
     "data": {
      "text/plain": [
       "1.0"
      ]
     },
     "execution_count": 31,
     "metadata": {},
     "output_type": "execute_result"
    }
   ],
   "source": [
    "results_test[\"test_accuracy\"].mean()"
   ]
  },
  {
   "cell_type": "code",
   "execution_count": 32,
   "id": "8dd96747",
   "metadata": {},
   "outputs": [],
   "source": [
    "y_pred = model.predict(x_test)"
   ]
  },
  {
   "attachments": {},
   "cell_type": "markdown",
   "id": "0b212b3a",
   "metadata": {},
   "source": [
    "## değerlendirme sonuç raporu yazdırma ve txt olarak kayıdetme"
   ]
  },
  {
   "cell_type": "code",
   "execution_count": 33,
   "id": "b25f69a4",
   "metadata": {},
   "outputs": [
    {
     "name": "stdout",
     "output_type": "stream",
     "text": [
      "              precision    recall  f1-score   support\n",
      "\n",
      "           0       1.00      1.00      1.00       166\n",
      "           1       1.00      1.00      1.00       256\n",
      "           2       1.00      1.00      1.00       178\n",
      "\n",
      "    accuracy                           1.00       600\n",
      "   macro avg       1.00      1.00      1.00       600\n",
      "weighted avg       1.00      1.00      1.00       600\n",
      "\n"
     ]
    }
   ],
   "source": [
    "print(classification_report(y_test, y_pred))"
   ]
  },
  {
   "cell_type": "code",
   "execution_count": 34,
   "id": "868fcc3c",
   "metadata": {},
   "outputs": [],
   "source": [
    "report = classification_report(y_test, y_pred, digits=4)\n",
    "\n",
    "with open(\"report.txt\", mode=\"w\", encoding=\"utf-8\") as file:\n",
    "    file.write(report)"
   ]
  }
 ],
 "metadata": {
  "kernelspec": {
   "display_name": "Python 3 (ipykernel)",
   "language": "python",
   "name": "python3"
  },
  "language_info": {
   "codemirror_mode": {
    "name": "ipython",
    "version": 3
   },
   "file_extension": ".py",
   "mimetype": "text/x-python",
   "name": "python",
   "nbconvert_exporter": "python",
   "pygments_lexer": "ipython3",
   "version": "3.9.12"
  }
 },
 "nbformat": 4,
 "nbformat_minor": 5
}
